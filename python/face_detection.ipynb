{
  "nbformat": 4,
  "nbformat_minor": 0,
  "metadata": {
    "colab": {
      "name": "face_detection.ipynb",
      "provenance": [],
      "collapsed_sections": [],
      "toc_visible": true
    },
    "kernelspec": {
      "name": "python3",
      "display_name": "Python 3"
    }
  },
  "cells": [
    {
      "cell_type": "markdown",
      "metadata": {
        "id": "v_Js32u6kXFi",
        "colab_type": "text"
      },
      "source": [
        "# MTCNN ( Multi-Task Cascaded Convolutional Neural Network )"
      ]
    },
    {
      "cell_type": "markdown",
      "metadata": {
        "id": "3fnbX_4pkzdL",
        "colab_type": "text"
      },
      "source": [
        "Pre-requisites"
      ]
    },
    {
      "cell_type": "code",
      "metadata": {
        "id": "wXqP_XSMkRA6",
        "colab_type": "code",
        "colab": {}
      },
      "source": [
        "%%bash\n",
        "pip install mtcnn\n",
        "pip install tensorflow==1.14"
      ],
      "execution_count": 0,
      "outputs": []
    },
    {
      "cell_type": "code",
      "metadata": {
        "id": "zQ5enFCgoxjl",
        "colab_type": "code",
        "colab": {}
      },
      "source": [
        "import tensorflow as tf\n",
        "print(tf.__version__)"
      ],
      "execution_count": 0,
      "outputs": []
    },
    {
      "cell_type": "code",
      "metadata": {
        "id": "_Qp24erqlUcQ",
        "colab_type": "code",
        "colab": {
          "base_uri": "https://localhost:8080/",
          "height": 71
        },
        "outputId": "30314031-6207-4cb9-80a4-629d976fa7ac"
      },
      "source": [
        "from mtcnn.mtcnn import MTCNN\n",
        "import cv2\n",
        "\n",
        "# load image from file\n",
        "filename = 'random_6567.png'\n",
        "img = cv2.imread(filename)\n",
        "pixels = cv2.cvtColor(img, cv2.COLOR_BGR2RGB)\n",
        "\n",
        "# Initializing detector class\n",
        "detector = MTCNN()\n",
        "\n",
        "# Running detect_faces method\n",
        "faces = detector.detect_faces(pixels)\n",
        "\n",
        "# Gives co-ordinates of\n",
        "# Eyes, mouth and nose\n",
        "for face in faces:\n",
        "\tprint(face)"
      ],
      "execution_count": 4,
      "outputs": [
        {
          "output_type": "stream",
          "text": [
            "{'box': [254, 87, 64, 93], 'confidence': 0.9999980926513672, 'keypoints': {'left_eye': (258, 124), 'right_eye': (275, 121), 'nose': (255, 144), 'mouth_left': (268, 163), 'mouth_right': (281, 160)}}\n",
            "{'box': [29, 40, 72, 85], 'confidence': 0.9996418952941895, 'keypoints': {'left_eye': (66, 73), 'right_eye': (92, 77), 'nose': (84, 95), 'mouth_left': (57, 104), 'mouth_right': (80, 108)}}\n"
          ],
          "name": "stdout"
        }
      ]
    }
  ]
}